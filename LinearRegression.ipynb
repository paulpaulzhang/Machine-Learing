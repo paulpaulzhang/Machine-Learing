{
 "cells": [
  {
   "cell_type": "code",
   "execution_count": 1,
   "metadata": {},
   "outputs": [],
   "source": [
    "import numpy as np\n",
    "from sklearn import datasets\n",
    "from playML.model_selection import train_test_split"
   ]
  },
  {
   "cell_type": "code",
   "execution_count": 2,
   "metadata": {},
   "outputs": [],
   "source": [
    "boston = datasets.load_boston()\n",
    "X = boston.data\n",
    "y = boston.target\n",
    "\n",
    "X = X[y < 50.0]\n",
    "y = y[y < 50.0]"
   ]
  },
  {
   "cell_type": "code",
   "execution_count": 3,
   "metadata": {},
   "outputs": [
    {
     "data": {
      "text/plain": [
       "(490, 13)"
      ]
     },
     "execution_count": 3,
     "metadata": {},
     "output_type": "execute_result"
    }
   ],
   "source": [
    "X.shape"
   ]
  },
  {
   "cell_type": "code",
   "execution_count": 4,
   "metadata": {},
   "outputs": [
    {
     "data": {
      "text/plain": [
       "(490,)"
      ]
     },
     "execution_count": 4,
     "metadata": {},
     "output_type": "execute_result"
    }
   ],
   "source": [
    "y.shape"
   ]
  },
  {
   "cell_type": "code",
   "execution_count": 5,
   "metadata": {},
   "outputs": [],
   "source": [
    "X_test, X_train, y_test, y_train = train_test_split(X, y, seed=666)"
   ]
  },
  {
   "cell_type": "code",
   "execution_count": 6,
   "metadata": {},
   "outputs": [],
   "source": [
    "from playML.LinearRegression import LinearRegression"
   ]
  },
  {
   "cell_type": "code",
   "execution_count": 7,
   "metadata": {},
   "outputs": [
    {
     "data": {
      "text/plain": [
       "array([18.08015868, 25.52447165, 12.98271397, 32.89477638, 24.17839745,\n",
       "        2.66600125, 26.64297716, 32.23866352, 13.96590659, 24.0465123 ,\n",
       "       14.92963   , 10.57419644, 30.28539981, 16.28302365, 23.67843428,\n",
       "       25.63288299, 18.68105783, 24.01767076, 28.77234863, 26.9404495 ,\n",
       "       12.87158142, 27.23259283, 26.07726096, 23.41270932, 20.80570812,\n",
       "       31.96527196, 14.93177657, 20.94927605, 12.93149157, 29.8004438 ,\n",
       "       35.29188752,  4.99369317, 13.10904465, 35.54982047, 16.00603155,\n",
       "       21.53889058, 12.46701001, 29.12202629, 27.3433202 , 24.04852968,\n",
       "       14.39961539, 23.61075774, 10.89223868, 22.38043687, 18.62604579,\n",
       "       16.41773634, 24.43040765, 33.06929581, 19.19757395, 27.03634216,\n",
       "       18.05693565, 14.90744724, 25.08683225, 16.09610653, 21.7469388 ,\n",
       "       16.32259928, 24.25418684, 11.75290906, 27.91347808, 31.06610342,\n",
       "       20.17028271, 24.99229322, 25.99180978, 12.11816691, 16.57739596,\n",
       "       27.30354042, 22.26700274, 21.72088347, 31.5072238 , 14.09365929,\n",
       "       16.44848578, 24.77021704, 25.18029077, 18.6594919 , 17.38685904,\n",
       "       27.90685345, 23.71361804, 14.64035157, 11.221733  , 31.41732583,\n",
       "       33.66657215, 17.6664705 , 18.70612914, 17.80521513, 25.15854544,\n",
       "       23.66222167, 24.54963451, 26.08785332, 25.49668464, 20.29468282,\n",
       "       24.87604237, 33.48153061, 36.08260332, 23.07153729, 18.79940271,\n",
       "       31.04317235, 35.78693515, 20.85083183])"
      ]
     },
     "execution_count": 7,
     "metadata": {},
     "output_type": "execute_result"
    }
   ],
   "source": [
    "reg = LinearRegression()\n",
    "reg.fit_normal(X_train, y_train).predict(X_test)"
   ]
  },
  {
   "cell_type": "code",
   "execution_count": 8,
   "metadata": {},
   "outputs": [
    {
     "data": {
      "text/plain": [
       "0.8129794056212711"
      ]
     },
     "execution_count": 8,
     "metadata": {},
     "output_type": "execute_result"
    }
   ],
   "source": [
    "reg.score(X_test, y_test)"
   ]
  },
  {
   "cell_type": "code",
   "execution_count": 9,
   "metadata": {},
   "outputs": [
    {
     "data": {
      "text/plain": [
       "(13,)"
      ]
     },
     "execution_count": 9,
     "metadata": {},
     "output_type": "execute_result"
    }
   ],
   "source": [
    "reg.coef_.shape"
   ]
  },
  {
   "cell_type": "code",
   "execution_count": null,
   "metadata": {},
   "outputs": [],
   "source": []
  }
 ],
 "metadata": {
  "kernelspec": {
   "display_name": "Python 3",
   "language": "python",
   "name": "python3"
  },
  "language_info": {
   "codemirror_mode": {
    "name": "ipython",
    "version": 3
   },
   "file_extension": ".py",
   "mimetype": "text/x-python",
   "name": "python",
   "nbconvert_exporter": "python",
   "pygments_lexer": "ipython3",
   "version": "3.7.0"
  }
 },
 "nbformat": 4,
 "nbformat_minor": 2
}
